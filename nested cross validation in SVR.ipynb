{
 "cells": [
  {
   "cell_type": "code",
   "execution_count": 1,
   "metadata": {},
   "outputs": [],
   "source": [
    "from sklearn import datasets\n",
    "from sklearn.model_selection import train_test_split\n",
    "from sklearn.preprocessing import StandardScaler\n",
    "from sklearn.svm import SVR\n",
    "from sklearn.pipeline import make_pipeline\n",
    "import numpy as np\n",
    "import pandas as pd\n",
    "from sklearn.model_selection import cross_val_score\n",
    "from sklearn.model_selection import GridSearchCV\n",
    "import matplotlib.pyplot as plt\n",
    "import warnings\n",
    "warnings.filterwarnings(\"ignore\")"
   ]
  },
  {
   "cell_type": "code",
   "execution_count": 2,
   "metadata": {
    "scrolled": true
   },
   "outputs": [
    {
     "name": "stdout",
     "output_type": "stream",
     "text": [
      "C:\\Users\\Administrator\\Desktop\n"
     ]
    }
   ],
   "source": [
    "cd \"C://Users//Administrator//Desktop\""
   ]
  },
  {
   "cell_type": "markdown",
   "metadata": {},
   "source": [
    "# Section1:Load data"
   ]
  },
  {
   "cell_type": "code",
   "execution_count": 3,
   "metadata": {},
   "outputs": [],
   "source": [
    "delta_open1 = pd.read_excel('Children_pretest_open1_relative_power_band.xlsx', 'delta_open1')\n",
    "theta_open1 = pd.read_excel('Children_pretest_open1_relative_power_band.xlsx', 'theta_open1')\n",
    "alpha_open1 = pd.read_excel('Children_pretest_open1_relative_power_band.xlsx', 'alpha_open1') \n",
    "beta_open1 = pd.read_excel('Children_pretest_open1_relative_power_band.xlsx', 'beta_open1')"
   ]
  },
  {
   "cell_type": "code",
   "execution_count": 4,
   "metadata": {},
   "outputs": [
    {
     "data": {
      "text/plain": [
       "WindowsPath('C:/Users/Administrator/Desktop')"
      ]
     },
     "execution_count": 4,
     "metadata": {},
     "output_type": "execute_result"
    }
   ],
   "source": [
    "from pathlib import Path\n",
    "Path(\"C://Users//Administrator//Desktop\")"
   ]
  },
  {
   "cell_type": "code",
   "execution_count": 5,
   "metadata": {},
   "outputs": [],
   "source": [
    "delta_open1.columns\n",
    "electrodes = delta_open1.columns[1:16]\n",
    "X_delta = delta_open1[electrodes]\n",
    "X_theta = theta_open1[electrodes]\n",
    "X_alpha =alpha_open1[electrodes]\n",
    "X_beta = beta_open1[electrodes]\n",
    "X = np.hstack([X_delta, X_theta, X_alpha, X_beta])\n",
    "y = delta_open1['age']"
   ]
  },
  {
   "cell_type": "code",
   "execution_count": 6,
   "metadata": {},
   "outputs": [],
   "source": [
    "X_train,X_test,y_train,y_test= train_test_split(X,y,test_size=0.20,stratify=y)"
   ]
  },
  {
   "cell_type": "code",
   "execution_count": 7,
   "metadata": {},
   "outputs": [],
   "source": [
    "train_test_split?"
   ]
  },
  {
   "cell_type": "markdown",
   "metadata": {},
   "source": [
    "# Secion2: Construct model optimized via GridSearch"
   ]
  },
  {
   "cell_type": "code",
   "execution_count": 8,
   "metadata": {},
   "outputs": [],
   "source": [
    "pipe_svr=make_pipeline(StandardScaler(),SVR(kernel = \"rbf\"))"
   ]
  },
  {
   "cell_type": "markdown",
   "metadata": {},
   "source": [
    "# Section3 Optimize SVR model via GridSearch"
   ]
  },
  {
   "cell_type": "code",
   "execution_count": 9,
   "metadata": {},
   "outputs": [],
   "source": [
    "param_range_C=[1,10,100]\n",
    "param_range_gamma=[0.01, 0.1]\n",
    "param_grid=[{'svr__C':param_range_C, 'svr__gamma':param_range_gamma}]\n",
    "\n",
    "\n",
    "gs=GridSearchCV(estimator=pipe_svr  ,\n",
    "                param_grid=param_grid,\n",
    "                scoring='neg_mean_absolute_error',\n",
    "                cv=4)\n",
    "scores=cross_val_score(gs,X_train,y_train, scoring='neg_mean_absolute_error',cv=5)\n",
    "\n",
    "\n",
    "gs.fit(X_train,y_train)\n",
    "y_pred = gs.predict(X_test)\n",
    "a = np.vstack((y_test, y_pred))\n",
    "#plt.scatter(y_pred, y_test)"
   ]
  },
  {
   "cell_type": "markdown",
   "metadata": {},
   "source": [
    "# Section4 Output"
   ]
  },
  {
   "cell_type": "code",
   "execution_count": 10,
   "metadata": {},
   "outputs": [
    {
     "name": "stdout",
     "output_type": "stream",
     "text": [
      "{'svr__C': 10, 'svr__gamma': 0.1}\n",
      "MAE in Train Phase: -0.662\n",
      "[[1.         0.23725342]\n",
      " [0.23725342 1.        ]]\n",
      "CV Accuracy in Train Phase: -0.701 +/- 0.130\n",
      "[-0.71939208 -0.48096556 -0.64711802 -0.80987388 -0.84751662]\n",
      "{'mean_fit_time': array([0.00373971, 0.00324136, 0.00394523, 0.00324106, 0.00398827,\n",
      "       0.00374049]), 'std_fit_time': array([4.31604818e-04, 4.31501613e-04, 7.50888897e-05, 4.31536080e-04,\n",
      "       3.37174788e-07, 4.29436881e-04]), 'mean_score_time': array([0.00124705, 0.00124669, 0.00106674, 0.00174671, 0.00124788,\n",
      "       0.00102633]), 'std_score_time': array([4.31467233e-04, 4.31673644e-04, 7.32582307e-05, 4.31986188e-04,\n",
      "       4.31811492e-04, 4.94531444e-05]), 'param_svr__C': masked_array(data=[1, 1, 10, 10, 100, 100],\n",
      "             mask=[False, False, False, False, False, False],\n",
      "       fill_value='?',\n",
      "            dtype=object), 'param_svr__gamma': masked_array(data=[0.01, 0.1, 0.01, 0.1, 0.01, 0.1],\n",
      "             mask=[False, False, False, False, False, False],\n",
      "       fill_value='?',\n",
      "            dtype=object), 'params': [{'svr__C': 1, 'svr__gamma': 0.01}, {'svr__C': 1, 'svr__gamma': 0.1}, {'svr__C': 10, 'svr__gamma': 0.01}, {'svr__C': 10, 'svr__gamma': 0.1}, {'svr__C': 100, 'svr__gamma': 0.01}, {'svr__C': 100, 'svr__gamma': 0.1}], 'split0_test_score': array([-0.69282039, -0.64275197, -0.73906689, -0.64292649, -0.74509582,\n",
      "       -0.64292649]), 'split1_test_score': array([-0.63250643, -0.64213097, -0.61982673, -0.61579905, -0.66959054,\n",
      "       -0.61579905]), 'split2_test_score': array([-0.69107509, -0.72970535, -0.77876434, -0.72812546, -0.78317646,\n",
      "       -0.72812546]), 'split3_test_score': array([-0.75283809, -0.67108493, -0.82457872, -0.66009425, -0.84304909,\n",
      "       -0.66009425]), 'mean_test_score': array([-0.69231573, -0.67109621, -0.7405424 , -0.66152496, -0.76005795,\n",
      "       -0.66152496]), 'std_test_score': array([0.04231   , 0.03555443, 0.07556131, 0.04126966, 0.06257477,\n",
      "       0.04126966]), 'rank_test_score': array([4, 3, 5, 1, 6, 1])}\n",
      "0.6372208954429639\n"
     ]
    }
   ],
   "source": [
    "#optimal parameters \n",
    "print(gs.best_params_)\n",
    "\n",
    "#Mean cross-validation score of the best estimator\n",
    "print(\"MAE in Train Phase: %.3f\" % gs.best_score_)\n",
    "\n",
    "#correlation between y_predict and y_test\n",
    "print(np.corrcoef(a))\n",
    "\n",
    "print(\"CV Accuracy in Train Phase: %.3f +/- %.3f\" % (np.mean(scores),np.std(scores)))\n",
    "print(scores)\n",
    "print(gs.cv_results_)\n",
    "print(np.mean(abs(y_pred - y_test)))"
   ]
  }
 ],
 "metadata": {
  "kernelspec": {
   "display_name": "Python 3",
   "language": "python",
   "name": "python3"
  },
  "language_info": {
   "codemirror_mode": {
    "name": "ipython",
    "version": 3
   },
   "file_extension": ".py",
   "mimetype": "text/x-python",
   "name": "python",
   "nbconvert_exporter": "python",
   "pygments_lexer": "ipython3",
   "version": "3.7.4"
  }
 },
 "nbformat": 4,
 "nbformat_minor": 2
}
