{
 "cells": [
  {
   "cell_type": "code",
   "execution_count": 18,
   "metadata": {},
   "outputs": [],
   "source": [
    "from sklearn import datasets\n",
    "from sklearn.model_selection import train_test_split\n",
    "from sklearn.preprocessing import StandardScaler\n",
    "from sklearn.pipeline import make_pipeline\n",
    "import numpy as np\n",
    "import pandas as pd\n",
    "from sklearn.model_selection import cross_val_score\n",
    "from sklearn.linear_model import Lasso,LassoCV\n",
    "from sklearn.metrics import mean_squared_error\n",
    "import matplotlib.pyplot as plt\n",
    "import warnings\n",
    "warnings.filterwarnings(\"ignore\")"
   ]
  },
  {
   "cell_type": "markdown",
   "metadata": {},
   "source": [
    "# Section1 load data"
   ]
  },
  {
   "cell_type": "code",
   "execution_count": 1,
   "metadata": {},
   "outputs": [
    {
     "name": "stdout",
     "output_type": "stream",
     "text": [
      "C:\\Users\\Administrator\\Desktop\\resting_state_eeg\\children\\resting EEG_machine learning\\data\\数据整理\n"
     ]
    }
   ],
   "source": [
    "cd \"C:\\Users\\Administrator\\Desktop\\resting_state_eeg\\children\\resting EEG_machine learning\\data\\数据整理\\\""
   ]
  },
  {
   "cell_type": "code",
   "execution_count": 5,
   "metadata": {},
   "outputs": [],
   "source": [
    "data_thickavg = pd.read_excel('DKTatlas40_analysis.xlsx', 'thickavg')"
   ]
  },
  {
   "cell_type": "code",
   "execution_count": 6,
   "metadata": {},
   "outputs": [],
   "source": [
    "thick = data_thickavg.columns[4:]\n",
    "X = data_thickavg[thick]\n",
    "y = data_thickavg['Age']"
   ]
  },
  {
   "cell_type": "markdown",
   "metadata": {},
   "source": [
    "# Section2 Optimize lasso model via GridSearch"
   ]
  },
  {
   "cell_type": "code",
   "execution_count": 7,
   "metadata": {},
   "outputs": [],
   "source": [
    "X_train = X.head(301)\n",
    "y_train = y.head(301)\n",
    "X_test = X.tail(100)\n",
    "y_test = y.tail(100)"
   ]
  },
  {
   "cell_type": "code",
   "execution_count": 32,
   "metadata": {},
   "outputs": [],
   "source": [
    "pipe_lasso=make_pipeline(StandardScaler(),Lasso(normalize = \"True\"))"
   ]
  },
  {
   "cell_type": "code",
   "execution_count": 37,
   "metadata": {},
   "outputs": [],
   "source": [
    "param_range_alpha= np.logspace(-5,2,200)\n",
    "param_grid=[{'lasso__alpha':param_range_alpha}]\n",
    "\n",
    "\n",
    "gs=GridSearchCV(estimator=pipe_lasso  ,\n",
    "                param_grid=param_grid,\n",
    "                scoring='accuracy',\n",
    "                cv=10)\n",
    "scores=cross_val_score(gs,X_train,y_train, scoring='neg_mean_absolute_error',cv=10)\n",
    "\n",
    "\n",
    "gs.fit(X_train,y_train)\n",
    "y_pred = gs.predict(X_test)\n",
    "a = np.vstack((y_test, y_pred))"
   ]
  },
  {
   "cell_type": "markdown",
   "metadata": {},
   "source": [
    "# Section3 Output"
   ]
  },
  {
   "cell_type": "code",
   "execution_count": 38,
   "metadata": {},
   "outputs": [
    {
     "name": "stdout",
     "output_type": "stream",
     "text": [
      "{'lasso__alpha': 0.002899422853882875}\n",
      "MAE in Train Phase: -0.969\n",
      "[[1.         0.40868548]\n",
      " [0.40868548 1.        ]]\n",
      "CV Accuracy in Train Phase: -0.972 +/- 0.160\n",
      "[-0.941866   -0.94158138 -0.78687193 -0.93735242 -1.13119272 -0.73067594\n",
      " -1.03056169 -0.84451166 -1.28848747 -1.09057232]\n",
      "1.045374770821503\n"
     ]
    }
   ],
   "source": [
    "#optimal parameters \n",
    "print(gs.best_params_)\n",
    "\n",
    "#Mean cross-validation score of the best estimator\n",
    "print(\"MAE in Train Phase: %.3f\" % gs.best_score_)\n",
    "\n",
    "#correlation between y_predict and y_test\n",
    "print(np.corrcoef(a))\n",
    "\n",
    "print(\"CV Accuracy in Train Phase: %.3f +/- %.3f\" % (np.mean(scores),np.std(scores)))\n",
    "print(scores)\n",
    "#print(gs.cv_results_)\n",
    "print(np.mean(abs(y_pred - y_test)))"
   ]
  },
  {
   "cell_type": "markdown",
   "metadata": {},
   "source": [
    "# Section4 Model optimization"
   ]
  },
  {
   "cell_type": "code",
   "execution_count": 39,
   "metadata": {},
   "outputs": [
    {
     "name": "stdout",
     "output_type": "stream",
     "text": [
      "Intercept                            16.335227\n",
      "caudalanteriorcingulate_Lthickavg    -1.130277\n",
      "caudalmiddlefrontal_Lthickavg         1.745858\n",
      "cuneus_Lthickavg                     -1.156695\n",
      "entorhinal_Lthickavg                  0.151858\n",
      "                                       ...    \n",
      "superiorparietal_Rthickavg           -0.734777\n",
      "superiortemporal_Rthickavg            0.152422\n",
      "supramarginal_Rthickavg              -0.000000\n",
      "transversetemporal_Rthickavg         -0.444682\n",
      "insula_Rthickavg                      0.645619\n",
      "Length: 63, dtype: float64\n",
      "1.0453747708215035\n",
      "[[1.         0.40868548]\n",
      " [0.40868548 1.        ]]\n"
     ]
    }
   ],
   "source": [
    "#构造不同的lambda值\n",
    "Lambdas=np.logspace(-5,2,200)\n",
    "#设置交叉验证的参数，使用均方误差评估\n",
    "lasso_cv=LassoCV(alphas=Lambdas,normalize=True,cv=10,max_iter=10000)\n",
    "lasso_cv.fit(X_train,y_train)\n",
    "\n",
    "#基于最佳lambda值建模\n",
    "lasso=Lasso(alpha=lasso_cv.alpha_,normalize=True,max_iter=10000)\n",
    "lasso.fit(X_train,y_train)\n",
    "#打印回归系数\n",
    "print(pd.Series(index=['Intercept']+X_train.columns.tolist(),\n",
    "                data=[lasso.intercept_]+lasso.coef_.tolist()))\n",
    "#模型评估\n",
    "y_pred=lasso.predict(X_test)\n",
    "#MAE\n",
    "MAE = np.mean(abs(y_pred - y_test))\n",
    "print(MAE)\n",
    "#测试集预测年龄和实际年龄的相关\n",
    "a = np.vstack((y_test, y_pred))\n",
    "print(np.corrcoef(a))"
   ]
  },
  {
   "cell_type": "code",
   "execution_count": 48,
   "metadata": {},
   "outputs": [
    {
     "data": {
      "text/plain": [
       "array([[1.91455998, 1.69745965, 1.61719235, ..., 1.90611612, 2.97813238,\n",
       "        2.01370724],\n",
       "       [1.91455998, 1.69745965, 1.61719235, ..., 1.90611612, 2.97813238,\n",
       "        2.01370724],\n",
       "       [1.91455998, 1.69745965, 1.61719235, ..., 1.90611612, 2.97813238,\n",
       "        2.01370724],\n",
       "       ...,\n",
       "       [1.40279884, 1.3601215 , 1.01845506, ..., 1.05063945, 2.37458681,\n",
       "        2.26782796],\n",
       "       [1.40295323, 1.36033877, 1.01860168, ..., 1.05059016, 2.37474128,\n",
       "        2.26815744],\n",
       "       [1.40309573, 1.36053936, 1.01865701, ..., 1.05054656, 2.37488147,\n",
       "        2.26846156]])"
      ]
     },
     "execution_count": 48,
     "metadata": {},
     "output_type": "execute_result"
    }
   ],
   "source": [
    "lasso_cv.mse_path_"
   ]
  }
 ],
 "metadata": {
  "kernelspec": {
   "display_name": "Python 3",
   "language": "python",
   "name": "python3"
  },
  "language_info": {
   "codemirror_mode": {
    "name": "ipython",
    "version": 3
   },
   "file_extension": ".py",
   "mimetype": "text/x-python",
   "name": "python",
   "nbconvert_exporter": "python",
   "pygments_lexer": "ipython3",
   "version": "3.7.4"
  }
 },
 "nbformat": 4,
 "nbformat_minor": 2
}
